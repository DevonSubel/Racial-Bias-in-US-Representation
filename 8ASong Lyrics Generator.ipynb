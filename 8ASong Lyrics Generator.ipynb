{
 "cells": [
  {
   "cell_type": "markdown",
   "metadata": {},
   "source": [
    "# 8A. Song Lyrics Generator\n",
    "\n",
    "In this lab, you will scrape a website to get lyrics of songs by your favorite artist. Then, you will train a model called a Markov chain on these lyrics so that you can generate a song in the style of your favorite artist.\n",
    "\n",
    "# Question 1. Scraping Song Lyrics\n",
    "\n",
    "Find a web site that has lyrics for several songs by your favorite artist. Scrape the lyrics into a Python list called `lyrics`, where each element of the list represents the lyrics of one song.\n",
    "\n",
    "**Tips:**\n",
    "- Find a web page that has links to all of the songs, like [this one](http://www.azlyrics.com/n/nirvana.html). [_Note:_ It appears that `azlyrics.com` blocks web scraping, so you'll have to find a different lyrics web site.] Then, you can scrape this page, extract the hyperlinks, and issue new HTTP requests to each hyperlink to get each song. \n",
    "- Use `time.sleep()` to stagger your HTTP requests so that you do not get banned by the website for making too many requests."
   ]
  },
  {
   "cell_type": "code",
   "execution_count": 1,
   "metadata": {},
   "outputs": [],
   "source": [
    "import requests\n",
    "import time\n",
    "\n",
    "from bs4 import BeautifulSoup\n",
    "\n",
    "resp = requests.get(\"http://www.songlyrics.com/idles-lyrics/\")\n",
    "soup = BeautifulSoup(resp.content, \"html.parser\")\n",
    "table = soup.find(\"table\")"
   ]
  },
  {
   "cell_type": "code",
   "execution_count": 2,
   "metadata": {},
   "outputs": [
    {
     "data": {
      "text/plain": [
       "[<a href=\"http://www.songlyrics.com/idles/well-done-lyrics/\" itemprop=\"url\" title=\"Well Done Lyrics Idles\">Well Done</a>,\n",
       " <a href=\"http://www.songlyrics.com/idles/danny-nedelko-lyrics/\" itemprop=\"url\" title=\"Danny Nedelko Lyrics Idles\">Danny Nedelko</a>,\n",
       " <a href=\"http://www.songlyrics.com/idles/great-lyrics/\" itemprop=\"url\" title=\"Great Lyrics Idles\">Great</a>,\n",
       " <a href=\"http://www.songlyrics.com/idles/colossus-lyrics/\" itemprop=\"url\" title=\"Colossus Lyrics Idles\">Colossus</a>,\n",
       " <a href=\"http://www.songlyrics.com/idles/samaritans-lyrics/\" itemprop=\"url\" title=\"Samaritans Lyrics Idles\">Samaritans</a>,\n",
       " <a href=\"http://www.songlyrics.com/idles/rottweiler-lyrics/\" itemprop=\"url\" title=\"Rottweiler Lyrics Idles\">Rottweiler</a>,\n",
       " <a href=\"http://www.songlyrics.com/idles/i-m-scum-lyrics/\" itemprop=\"url\" title=\"I'm Scum Lyrics Idles\">I'm Scum</a>,\n",
       " <a href=\"http://www.songlyrics.com/idles/never-fight-a-man-with-a-perm-lyrics/\" itemprop=\"url\" title=\"Never Fight a Man With a Perm Lyrics Idles\">Never Fight a Man With a Perm</a>,\n",
       " <a href=\"http://www.songlyrics.com/idles/love-song-lyrics/\" itemprop=\"url\" title=\"Love Song Lyrics Idles\">Love Song</a>,\n",
       " <a href=\"http://www.songlyrics.com/idles/june-lyrics/\" itemprop=\"url\" title=\"June Lyrics Idles\">June</a>,\n",
       " <a href=\"http://www.songlyrics.com/idles/television-lyrics/\" itemprop=\"url\" title=\"Television Lyrics Idles\">Television</a>,\n",
       " <a href=\"http://www.songlyrics.com/idles/gram-rock-lyrics/\" itemprop=\"url\" title=\"Gram Rock Lyrics Idles\">Gram Rock</a>,\n",
       " <a href=\"http://www.songlyrics.com/idles/cry-to-me-lyrics/\" itemprop=\"url\" title=\"Cry To Me Lyrics Idles\">Cry To Me</a>,\n",
       " <a href=\"http://www.songlyrics.com/idles/heel-lyrics/\" itemprop=\"url\" title=\"Heel Lyrics Idles\">Heel</a>,\n",
       " <a href=\"http://www.songlyrics.com/idles/stendhal-syndrome-lyrics/\" itemprop=\"url\" title=\"Stendhal Syndrome Lyrics Idles\">Stendhal Syndrome</a>,\n",
       " <a href=\"http://www.songlyrics.com/idles/benzocaine-lyrics/\" itemprop=\"url\" title=\"Benzocaine Lyrics Idles\">Benzocaine</a>,\n",
       " <a href=\"http://www.songlyrics.com/idles/heel-heal-lyrics/\" itemprop=\"url\" title=\"Heel / Heal Lyrics Idles\">Heel / Heal</a>,\n",
       " <a href=\"http://www.songlyrics.com/idles/rachel-khoo-lyrics/\" itemprop=\"url\" title=\"Rachel Khoo Lyrics Idles\">Rachel Khoo</a>,\n",
       " <a href=\"http://www.songlyrics.com/idles/slow-savage-lyrics/\" itemprop=\"url\" title=\"Slow Savage Lyrics Idles\">Slow Savage</a>,\n",
       " <a href=\"http://www.songlyrics.com/idles/faith-in-the-city-lyrics/\" itemprop=\"url\" title=\"Faith in the City Lyrics Idles\">Faith in the City</a>,\n",
       " <a href=\"http://www.songlyrics.com/idles/divide-conquer-lyrics/\" itemprop=\"url\" title=\"Divide &amp; Conquer Lyrics Idles\">Divide &amp; Conquer</a>,\n",
       " <a href=\"http://www.songlyrics.com/idles/date-night-lyrics/\" itemprop=\"url\" title=\"Date Night Lyrics Idles\">Date Night</a>,\n",
       " <a href=\"http://www.songlyrics.com/idles/germany-lyrics/\" itemprop=\"url\" title=\"Germany Lyrics Idles\">Germany</a>,\n",
       " <a href=\"http://www.songlyrics.com/idles/mother-lyrics/\" itemprop=\"url\" title=\"Mother Lyrics Idles\">Mother</a>,\n",
       " <a href=\"http://www.songlyrics.com/idles/1049-gotho-lyrics/\" itemprop=\"url\" title=\"1049 Gotho Lyrics Idles\">1049 Gotho</a>,\n",
       " <a href=\"http://www.songlyrics.com/idles/exeter-lyrics/\" itemprop=\"url\" title=\"Exeter Lyrics Idles\">Exeter</a>,\n",
       " <a href=\"http://www.songlyrics.com/idles/white-privilege-lyrics/\" itemprop=\"url\" title=\"White Privilege Lyrics Idles\">White Privilege</a>,\n",
       " <a href=\"http://www.songlyrics.com/idles/the-idles-chant-lyrics/\" itemprop=\"url\" title=\"The Idles Chant Lyrics Idles\">The Idles Chant</a>]"
      ]
     },
     "execution_count": 2,
     "metadata": {},
     "output_type": "execute_result"
    }
   ],
   "source": [
    "table\n",
    "songs = table.find_all(\"a\")\n",
    "songs\n",
    "for song in songs[1:]:\n",
    "    link = song.get(\"href\")\n",
    "songs"
   ]
  },
  {
   "cell_type": "code",
   "execution_count": 3,
   "metadata": {},
   "outputs": [],
   "source": [
    "import time\n",
    "lyrics = []\n",
    "songs = table.find_all(\"a\")\n",
    "for song in songs[1:]:\n",
    "    resp = requests.get(song.get('href'))\n",
    "    soup = BeautifulSoup(resp.content, \"html.parser\")\n",
    "    song = soup.find(\"p\",{\"class\":\"songLyricsV14\"})\n",
    "    if(song):\n",
    "        lines = song.text.replace(\"\\r\",\"\")\n",
    "        lyrics.append(lines)\n"
   ]
  },
  {
   "cell_type": "code",
   "execution_count": 4,
   "metadata": {},
   "outputs": [
    {
     "data": {
      "text/plain": [
       "\"My blood brother is an immigrant\\nA beautiful immigrant\\n\\nMy blood brother's Freddie Mercury\\nA Nigerian mother of three\\n\\nHe's made of bones, he's made of blood\\nHe's made of flesh, he's made of love\\nHe's made of you, he's made of me\\nUnity!\\n\\nFear leads to panic, panic leads to pain\\nPain leads to anger, anger leads to hate\\nYeah, yeah, yeah, yeah\\nYeah, yeah, yeah, yeah\\nYeah, yeah, yeah, yeah\\nYeah, yeah, Danny Nedelko\\n\\nMy best friend is an alien (I know him, and he is!)\\nMy best friend is a citizen\\nHe's strong, he's earnest, he's innocent\\n\\nMy blood brother is Malala\\nA Polish butcher, he's Mo Farah\\n\\nHe's made of bones, he's made of blood\\nHe's made of flesh, he's made of love\\nHe's made of you, he's made of me\\nUnity!\\n\\nFear leads to panic, panic leads to pain\\nPain leads to anger, anger leads to hate\\nYeah, yeah, yeah, yeah\\nYeah, yeah, yeah, yeah\\nYeah, yeah, yeah, yeah\\nYeah, yeah, Danny Nedelko\\n\\nThe D, the A, the N, the N, the Y\\nThe N, the E, the D, the E, the L\\nThe K, the O, the C, the O, the M\\nThe M, the U, the N, the I, the T\\nThe Y, the S, the O, the F, the U\\nThe C, the K, the Y, the O and the U\\nAnd you, and you, and you, and you\\n\\nYeah, yeah, yeah, yeah\\nYeah, yeah, yeah, yeah\\nYeah, yeah, yeah, yeah\\nYeah, yeah, Danny Nedelko\\nYeah, yeah, yeah, yeah\\nYeah, yeah, yeah, yeah\\nYeah, yeah, yeah, yeah\\nYeah, yeah, Danny Nedelko\""
      ]
     },
     "execution_count": 4,
     "metadata": {},
     "output_type": "execute_result"
    }
   ],
   "source": [
    "lyrics[0]"
   ]
  },
  {
   "cell_type": "markdown",
   "metadata": {},
   "source": [
    "`pickle` is a Python library that serializes Python objects to disk so that you can load them in later."
   ]
  },
  {
   "cell_type": "code",
   "execution_count": 5,
   "metadata": {},
   "outputs": [],
   "source": [
    "import pickle\n",
    "pickle.dump(lyrics, open(\"lyrics.pkl\", \"wb\"))"
   ]
  },
  {
   "cell_type": "markdown",
   "metadata": {},
   "source": [
    "# Question 2. Unigram Markov Chain Model\n",
    "\n",
    "You will build a Markov chain for the artist whose lyrics you scraped in Lab A. Your model will process the lyrics and store the word transitions for that artist. The transitions will be stored in a dict called `chain`, which maps each word to a list of \"next\" words.\n",
    "\n",
    "For example, if your song was [\"The Joker\" by the Steve Miller Band](https://www.youtube.com/watch?v=FgDU17xqNXo), `chain` might look as follows:\n",
    "\n",
    "```\n",
    "chain = {\n",
    "    \"some\": [\"people\", \"call\", \"people\"],\n",
    "    \"call\": [\"me\", \"me\", \"me\"],\n",
    "    \"the\": [\"space\", \"gangster\", \"pompitous\", ...],\n",
    "    \"me\": [\"the\", \"the\", \"Maurice\"],\n",
    "    ...\n",
    "}\n",
    "```\n",
    "\n",
    "Besides words, you should include a few additional states in your Markov chain. You should have `\"<START>\"` and `\"<END>\"` states so that we can keep track of how songs are likely to begin and end. You should also include a state called `\"<N>\"` to denote line breaks so that you can keep track of where lines begin and end. It is up to you whether you want to include normalize case and strip punctuation.\n",
    "\n",
    "So for example, for [\"The Joker\"](https://www.azlyrics.com/lyrics/stevemillerband/thejoker.html), you would add the following to your chain:\n",
    "\n",
    "```\n",
    "chain = {\n",
    "    \"<START>\": [\"Some\", ...],\n",
    "    \"Some\": [\"people\", ...],\n",
    "    \"people\": [\"call\", ...],\n",
    "    \"call\": [\"me\", ...],\n",
    "    \"me\": [\"the\", ...],\n",
    "    \"the\": [\"space\", ...],\n",
    "    \"space\": [\"cowboy,\", ...],\n",
    "    \"cowboy,\": [\"yeah\", ...],\n",
    "    \"yeah\": [\"<N>\", ...],\n",
    "    \"<N>\": [\"Some\", ..., \"Come\"],\n",
    "    ...,\n",
    "    \"Come\": [\"on\", ...],\n",
    "    \"on\": [\"baby\", ...],\n",
    "    \"baby\": [\"and\", ...],\n",
    "    \"and\": [\"I'll\", ...],\n",
    "    \"I'll\": [\"show\", ...],\n",
    "    \"show\": [\"you\", ...],\n",
    "    \"you\": [\"a\", ...],\n",
    "    \"a\": [\"good\", ...],\n",
    "    \"good\": [\"time\", ...],\n",
    "    \"time\": [\"<END>\", ...],\n",
    "}\n",
    "```\n",
    "\n",
    "Your chain will be trained on not just one song, but by all songs by your artist."
   ]
  },
  {
   "cell_type": "code",
   "execution_count": 6,
   "metadata": {},
   "outputs": [],
   "source": [
    "def train_markov_chain(lyrics):\n",
    "    \"\"\"\n",
    "    Args:\n",
    "      - lyrics: a list of strings, where each string represents\n",
    "                the lyrics of one song by an artist.\n",
    "    \n",
    "    Returns:\n",
    "      A dict that maps a single word (\"unigram\") to a list of\n",
    "      words that follow that word, representing the Markov\n",
    "      chain trained on the lyrics.\n",
    "    \"\"\"\n",
    "    chain = {\"<START>\": []}\n",
    "    for lyric in lyrics:\n",
    "        lyrics_new = lyric.replace(\"\\n\",\" <N> \")\n",
    "        tmp = '<START>'\n",
    "        for word in lyrics_new.split():\n",
    "            chain[tmp].append(word)\n",
    "            tmp = word\n",
    "            if tmp not in chain:\n",
    "                chain[tmp] = []\n",
    "        chain[tmp].append('<END>')\n",
    "        \n",
    "    return chain"
   ]
  },
  {
   "cell_type": "code",
   "execution_count": 7,
   "metadata": {},
   "outputs": [
    {
     "name": "stdout",
     "output_type": "stream",
     "text": [
      "['My', 'We', 'We', 'We', 'We', 'We', 'We', 'We', 'We', 'We', 'We', 'We', 'I', 'Did', 'Oh', 'I', 'No', 'It', 'I', 'Ha,', 'Date', 'Better', 'My', 'My', 'Nothing', 'How', 'We']\n",
      "['A', '<N>', 'My', 'A', '<N>', \"He's\", \"He's\", \"He's\", 'Unity!', '<N>', 'Fear', 'Pain', 'Yeah,', 'Yeah,', 'Yeah,', 'Yeah,', '<N>', 'My', 'My', \"He's\"]\n"
     ]
    }
   ],
   "source": [
    "# Load the pickled lyrics object that you created in Lab A.\n",
    "import pickle\n",
    "lyrics = pickle.load(open(\"lyrics.pkl\", \"rb\"))\n",
    "\n",
    "# Call the function you wrote above.\n",
    "chain = train_markov_chain(lyrics)\n",
    "\n",
    "# What words tend to start a song (i.e., what words follow the <START> tag?)\n",
    "print(chain[\"<START>\"])\n",
    "# What words tend to begin a line (i.e., what words follow the line break tag?)\n",
    "print(chain[\"<N>\"][:20])\n",
    "\n"
   ]
  },
  {
   "cell_type": "markdown",
   "metadata": {},
   "source": [
    "Now, let's generate new lyrics using the Markov chain you constructed above. To do this, we'll begin at the `\"<START>\"` state and randomly sample a word from the list of words that follow `\"<START>\"`. Then, at each step, we'll randomly sample the next word from the list of words that followed each current word. We will continue this process until we sample the `\"<END>\"` state. This will give us the complete lyrics of a randomly generated song!\n",
    "\n",
    "You may find the `random.choice()` function helpful for this question."
   ]
  },
  {
   "cell_type": "code",
   "execution_count": 8,
   "metadata": {},
   "outputs": [],
   "source": [
    "import random\n",
    "\n",
    "def generate_new_lyrics(chain):\n",
    "    \"\"\"\n",
    "    Args:\n",
    "      - chain: a dict representing the Markov chain,\n",
    "               such as one generated by generate_new_lyrics()\n",
    "    \n",
    "    Returns:\n",
    "      A string representing the randomly generated song.\n",
    "    \"\"\"\n",
    "    \n",
    "    # a list for storing the generated words\n",
    "    words = []\n",
    "    # generate the first word\n",
    "    words.append(random.choice(chain[\"<START>\"]))\n",
    "    \n",
    "    \n",
    "    # YOUR CODE HERE\n",
    "    word = '<START>'\n",
    "    while(word[-1] != '<END>'):\n",
    "        word = random.choice(chain[words[-1]])\n",
    "        words.append(word)\n",
    "        word = chain[words[-1]]\n",
    "    \n",
    "    # join the words together into a string with line breaks\n",
    "    lyrics = \" \".join(words[:-1])\n",
    "    return \"\\n\".join(lyrics.split(\"<N>\"))"
   ]
  },
  {
   "cell_type": "code",
   "execution_count": 17,
   "metadata": {},
   "outputs": [
    {
     "name": "stdout",
     "output_type": "stream",
     "text": [
      "We do not like you) \n",
      " I'm evangelical \n",
      " 1, 2, 3, 4 \n",
      " Praise the lord \n",
      " \n",
      " Compensate with humor or if really bored than sing \n",
      " \n",
      " Cause I'm the worst lover you've ever had \n",
      " I'm done \n",
      " (I'm just saying I don't like you) \n",
      " What fun \n",
      " I want to move into a Bovis home \n",
      " And neither of us care \n",
      " \n",
      " I'm done \n",
      " I could have danced with your mother \n",
      " Cause she passed out on your stairs \n",
      " 'Cause nothing ever \n",
      " \n",
      " Divide \n",
      " And ride into the amber setting sun \n",
      " Marching to the beat of someone's drum \n",
      " \n",
      " Ha ha \n",
      " Hey \n",
      " Balling upon the laudanum \n",
      " Ha ha \n",
      " \n",
      " I guess this is as far \n",
      " \n",
      " It starts in our books and behind our school gates \n",
      " Men are scared it's their lives men will take \n",
      " \n",
      " Cause I'm the worst lover you'll ever have \n",
      " \n",
      " Yeah, yeah, yeah, yeah \n",
      " Yeah, yeah, yeah, yeah \n",
      " Yeah, dance till the sun goes round \n",
      " Yeah, dance till the sun goes round \n",
      " Yeah, dance till the sun goes round \n",
      " Yeah, yeah, yeah, yeah \n",
      " Yeah, yeah, Danny Nedelko \n",
      " Yeah, dance till the sun goes round \n",
      " Yeah, yeah, Danny Nedelko \n",
      " \n",
      " Divide \n",
      " And ride into the amber setting sun \n",
      " Marching to the beat of someone's drum \n",
      " I'm done \n",
      " \n",
      " Over and over and over and over and over and over and over again \n",
      " Nothing ever happens\n"
     ]
    }
   ],
   "source": [
    "print(generate_new_lyrics(chain))"
   ]
  },
  {
   "cell_type": "markdown",
   "metadata": {},
   "source": [
    "# Question 3. Bigram Markov Chain Model\n",
    "\n",
    "Now you'll build a more complex Markov chain that uses the last _two_ words (or bigram) to predict the next word. Now your dict `chain` should map a _tuple_ of words to a list of words that appear after it.\n",
    "\n",
    "As before, you should also include tags that indicate the beginning and end of a song, as well as line breaks. That is, a tuple might contain tags like `\"<START>\"`, `\"<END>\"`, and `\"<N>\"`, in addition to regular words. So for example, for [\"The Joker\"](https://www.azlyrics.com/lyrics/stevemillerband/thejoker.html), you would add the following to your chain:\n",
    "\n",
    "```\n",
    "chain = {\n",
    "    (None, \"<START>\"): [\"Some\", ...],\n",
    "    (\"<START>\", \"Some\"): [\"people\", ...],\n",
    "    (\"Some\", \"people\"): [\"call\", ...],\n",
    "    (\"people\", \"call\"): [\"me\", ...],\n",
    "    (\"call\", \"me\"): [\"the\", ...],\n",
    "    (\"me\", \"the\"): [\"space\", ...],\n",
    "    (\"the\", \"space\"): [\"cowboy,\", ...],\n",
    "    (\"space\", \"cowboy,\"): [\"yeah\", ...],\n",
    "    (\"cowboy,\", \"yeah\"): [\"<N>\", ...],\n",
    "    (\"yeah\", \"<N>\"): [\"Some\", ...],\n",
    "    (\"time\", \"<N>\"): [\"Come\"],\n",
    "    ...,\n",
    "    (\"<N>\", \"Come\"): [\"on\", ...],\n",
    "    (\"Come\", \"on\"): [\"baby\", ...],\n",
    "    (\"on\", \"baby\"): [\"and\", ...],\n",
    "    (\"baby\", \"and\"): [\"I'll\", ...],\n",
    "    (\"and\", \"I'll\"): [\"show\", ...],\n",
    "    (\"I'll\", \"show\"): [\"you\", ...],\n",
    "    (\"show\", \"you\"): [\"a\", ...],\n",
    "    (\"you\", \"a\"): [\"good\", ...],\n",
    "    (\"a\", \"good\"): [\"time\", ...],\n",
    "    (\"good\", \"time\"): [\"<END>\", ...],\n",
    "}\n",
    "```"
   ]
  },
  {
   "cell_type": "code",
   "execution_count": 10,
   "metadata": {},
   "outputs": [],
   "source": [
    "def train_markov_chain(lyrics):\n",
    "    \"\"\"\n",
    "    Args:\n",
    "      - lyrics: a list of strings, where each string represents\n",
    "                the lyrics of one song by an artist.\n",
    "    \n",
    "    Returns:\n",
    "      A dict that maps a single word (\"unigram\") to a list of\n",
    "      words that follow that word, representing the Markov\n",
    "      chain trained on the lyrics.\n",
    "    \"\"\"\n",
    "    chain = {(None,\"<START>\"): []}\n",
    "    for lyric in lyrics:\n",
    "        lyrics_new = lyric.replace(\"\\n\",\" <N> \")\n",
    "        last_2 = (None,\"<START>\")\n",
    "        for word in lyrics_new.split():\n",
    "            chain[last_2].append(word)\n",
    "            last_2 = (last_2[1],word)\n",
    "            if last_2 not in chain:\n",
    "                chain[last_2] = []\n",
    "        chain[last_2].append('<END>')\n",
    "        \n",
    "    return chain"
   ]
  },
  {
   "cell_type": "code",
   "execution_count": 11,
   "metadata": {},
   "outputs": [
    {
     "name": "stdout",
     "output_type": "stream",
     "text": [
      "['My', 'We', 'We', 'We', 'We', 'We', 'We', 'We', 'We', 'We', 'We', 'We', 'I', 'Did', 'Oh', 'I', 'No', 'It', 'I', 'Ha,', 'Date', 'Better', 'My', 'My', 'Nothing', 'How', 'We']\n"
     ]
    }
   ],
   "source": [
    "# Load the pickled lyrics object that you created in Lab A.\n",
    "import pickle\n",
    "lyrics = pickle.load(open(\"lyrics.pkl\", \"rb\"))\n",
    "\n",
    "# Call the function you wrote above.\n",
    "chain = train_markov_chain(lyrics)\n",
    "\n",
    "# What words tend to start a song (i.e., what words follow the <START> tag?)\n",
    "print(chain[(None,\"<START>\")])\n",
    "# What words tend to begin a line (i.e., what words follow the line break tag?)\n",
    "\n"
   ]
  },
  {
   "cell_type": "markdown",
   "metadata": {},
   "source": [
    "Now, let's generate new lyrics using the Markov chain you constructed above. To do this, we'll begin at the `(None, \"<START>\")` state and randomly sample a word from the list of words that follow this bigram. Then, at each step, we'll randomly sample the next word from the list of words that followed the current bigram (i.e., the last two words). We will continue this process until we sample the `\"<END>\"` state. This will give us the complete lyrics of a randomly generated song!"
   ]
  },
  {
   "cell_type": "code",
   "execution_count": 12,
   "metadata": {},
   "outputs": [],
   "source": [
    "import random\n",
    "\n",
    "def generate_new_lyrics(chain):\n",
    "    \"\"\"\n",
    "    Args:\n",
    "    - chain: a dict representing the Markov chain,\n",
    "    such as one generated by generate_new_lyrics()\n",
    "\n",
    "    Returns:\n",
    "    A string representing the randomly generated song.\n",
    "    \"\"\"\n",
    "\n",
    "    # a list for storing the generated words\n",
    "    words = []\n",
    "    \n",
    "    # generate the first word\n",
    "    first_word = random.choice(chain[(None, \"<START>\")])\n",
    "    words.append(first_word)\n",
    "    second_word = random.choice(chain[(\"<START>\", first_word)])\n",
    "    words.append(second_word)\n",
    "    i=1\n",
    "    while True: \n",
    "        prev_word = words[i-1]\n",
    "        current_word = words[i]\n",
    "        if(current_word == \"<END>\"):\n",
    "            break \n",
    "        words.append(random.choice(chain[(prev_word,current_word)]))\n",
    "        i += 1\n",
    "    \n",
    "    # join the words together into a string with line breaks\n",
    "    lyrics = \" \".join(words[:-1])\n",
    "    return \"\\n\".join(lyrics.split(\"<N>\"))"
   ]
  },
  {
   "cell_type": "code",
   "execution_count": 20,
   "metadata": {},
   "outputs": [
    {
     "name": "stdout",
     "output_type": "stream",
     "text": [
      "Better son \n",
      " Makes me feel pretty strong \n",
      " Holiday, holiday, I know nothing \n",
      " I'm the worst lover you'll ever have \n",
      " \n",
      " Let's drink to the summer time until we turn blue \n",
      " I'll tear down every wall of a C.A.R.A.V.A.G.G.I.O \n",
      " Just for you \n",
      " It's true it's true \n",
      " Whip crack whip crack \n",
      " \n",
      " When it comes around \n",
      " We won't last five fucking minutes \n",
      " With a body like mine \n",
      " You won't see mine \n",
      " \n",
      " My mother worked 17 hours 7 days a week \n",
      " \n",
      " They don't care about the summertime \n",
      " Cheap drugs and cheap cheap wine \n",
      " They put a hammer through his head \n",
      " And conquer \n",
      " \n",
      " I could have danced with your mother \n",
      " Cause I'm the worst lover you'll ever have \n",
      " Hands down goddamn worst lover you'll ever have \n",
      " I'm shaking fast \n",
      " Whip crack whip crack \n",
      " \n",
      " Did you see that painting what Basquiat done? \n",
      " Looks like it was coke \n",
      " Maybe it was God \n",
      " Maybe it was coke \n",
      " Maybe it was Thursday \n",
      " \n",
      " Let's go \n",
      " I guess this is as far as we go \n",
      " I guess this is as far as we go \n",
      " I want to move into a Bovis home \n",
      " And prayed to Jesus, please \n",
      " Will something fucking happen \n",
      " \n",
      " Oh Benzocaine \n",
      " \n",
      " Hot air \n",
      " \n",
      " Help me, help me some, might help me \n",
      " Unity! \n",
      " \n",
      " Divide \n",
      " And make a list of everything I own \n",
      " And make a list of everything I own \n",
      " And make a list of everything I own \n",
      " And ride into the amber setting sun \n",
      " Marching to the beat of someone's drum \n",
      " Ahhh \n",
      " (I'm just saying that I'm not like you) \n",
      " (I'm just saying that I don't like you) \n",
      " (I'm just saying I don't like you) \n",
      " What fun \n",
      " \n",
      " Rachel Khoo \n",
      " \n",
      " Always poor \n",
      " Never bored \n",
      " \n",
      " Over and over and over and over and over again \n",
      " Nothing ever happens \n",
      " \n",
      " Ha ha \n",
      " Hey \n",
      " Balling upon the laudanum \n",
      " Ha ha \n",
      " Hey \n",
      " Balling upon the laudanum \n",
      " Hey \n",
      " Balling upon the laudanum \n",
      " \n",
      " Murder murder, you said you're too soft for murder \n",
      " Makes you feel pretty strong? Strong! \n",
      " \n",
      " He's made of bones, he's made of blood \n",
      " He's made of you, he's made of blood \n",
      " He's made of blood \n",
      " He's made of blood \n",
      " He's made of bones, he's made of bones, he's made of flesh, he's made of me \n",
      " Won't someone set me free? \n",
      " There's no god in the kitchen sink \n",
      " As she slowly undressed \n",
      " \n",
      " Always poor \n",
      " Never bored \n",
      " \n",
      " La da da \n",
      " \n",
      " Mother \n",
      " Fucker \n",
      " \n",
      " Hot air \n",
      " \n",
      " (?) \n",
      " With a Perm yet.\n"
     ]
    }
   ],
   "source": [
    "print(generate_new_lyrics(chain))"
   ]
  },
  {
   "cell_type": "markdown",
   "metadata": {},
   "source": [
    "# Analysis\n",
    "\n",
    "Compare the quality of the lyrics generated by the unigram model (in Lab B) and the bigram model (in Lab C). Which model seems to generate more reasonable lyrics? Can you explain why? What do you see as the advantages and disadvantages of each model?"
   ]
  },
  {
   "cell_type": "markdown",
   "metadata": {},
   "source": [
    "**YOUR ANSWER HERE.**\n",
    "\n",
    "The lyrics in Lab C seem to have more resonable lyrics due to the fact that the lines have better grammatical structure and picked up phrases from the songs (these phrase could have also poped up because IDLES is a new band and so they do not have enough lyrics for the algorithms to get creative). The advantage of C is that the lyrics are more accurate but the disadvantage is that it is more complicated and takes more work to compute. "
   ]
  },
  {
   "cell_type": "markdown",
   "metadata": {},
   "source": [
    "# Submission Instructions\n",
    "\n",
    "Once you are finished, follow these steps:\n",
    "\n",
    "1. Restart the kernel and re-run this notebook from beginning to end by going to `Kernel > Restart Kernel and Run All Cells`.\n",
    "2. If this process stops halfway through, that means there was an error. Correct the error and repeat Step 1 until the notebook runs from beginning to end.\n",
    "3. Double check that there is a number next to each code cell and that these numbers are in order.\n",
    "\n",
    "Then, submit your lab as follows:\n",
    "\n",
    "1. Go to `File > Export Notebook As > PDF`.\n",
    "2. Double check that the entire notebook, from beginning to end, is in this PDF file. (If the notebook is cut off, try first exporting the notebook to HTML and printing to PDF.)\n",
    "3. Upload the PDF [to PolyLearn](https://polylearn.calpoly.edu/AY_2018-2019/mod/assign/view.php?id=349486)."
   ]
  }
 ],
 "metadata": {
  "kernelspec": {
   "display_name": "Python 3",
   "language": "python",
   "name": "python3"
  },
  "language_info": {
   "codemirror_mode": {
    "name": "ipython",
    "version": 3
   },
   "file_extension": ".py",
   "mimetype": "text/x-python",
   "name": "python",
   "nbconvert_exporter": "python",
   "pygments_lexer": "ipython3",
   "version": "3.6.8"
  }
 },
 "nbformat": 4,
 "nbformat_minor": 2
}
